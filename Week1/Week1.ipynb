{
    "metadata": {
        "kernelspec": {
            "name": "python2", 
            "display_name": "Python 2 with Spark 1.6", 
            "language": "python"
        }, 
        "language_info": {
            "version": "2.7.11", 
            "file_extension": ".py", 
            "nbconvert_exporter": "python", 
            "codemirror_mode": {
                "version": 2, 
                "name": "ipython"
            }, 
            "name": "python", 
            "mimetype": "text/x-python", 
            "pygments_lexer": "ipython2"
        }
    }, 
    "cells": [
        {
            "metadata": {
                "collapsed": false
            }, 
            "cell_type": "code", 
            "outputs": [], 
            "execution_count": 1, 
            "source": "# The code was removed by DSX for sharing."
        }, 
        {
            "metadata": {
                "collapsed": false
            }, 
            "cell_type": "code", 
            "outputs": [
                {
                    "metadata": {}, 
                    "output_type": "execute_result", 
                    "execution_count": 2, 
                    "data": {
                        "text/plain": "[u'Date,Open,High,Low,Close,Volume,Adj Close',\n u'2016-03-01,46.41,48.630001,46.049999,48.599998,2832200,48.599998',\n u'2016-02-29,44.57,46.32,44.299999,45.650002,1914900,45.650002',\n u'2016-02-26,43.91,45.139999,43.009998,44.41,2677200,44.41',\n u'2016-02-25,43.330002,44.389999,42.349998,43.060001,1784600,43.060001',\n u'2016-02-24,40.50,42.16,39.619999,42.07,1580300,42.07',\n u'2016-02-23,42.599998,42.66,40.619999,40.84,1649600,40.84',\n u'2016-02-22,43.200001,43.200001,42.009998,42.66,1594200,42.66',\n u'2016-02-19,41.00,42.650002,40.509998,42.389999,1488300,42.389999',\n u'2016-02-18,41.91,42.400002,40.959999,41.09,1278500,41.09',\n u'2016-02-17,40.360001,42.16,40.189999,42.09,3071100,42.09',\n u'2016-02-16,40.970001,41.740002,39.779999,40.169998,2422200,40.169998',\n u'2016-02-12,40.459999,41.200001,39.07,40.25,1979000,40.25',\n u'2016-02-11,39.119999,40.380001,38.52,39.98,1770500,39.98',\n u'2016-02-10,40.09,41.080002,38.77,39.860001,3228000,39.860001',\n u'2016-02-09,36.599998,40.59,36.599998,39.23,5577300,39.23',\n u'2016-02-08,39.130001,40.52,36.860001,37.220001,6903400,37.220001',\n u'2016-02-05,44.049999,45.639999,40.040001,41.330002,21197700,41.330002',\n u'2016-02-04,79.489998,82.919998,77.730003,81.75,2917800,81.75',\n u'2016-02-03,77.919998,79.970001,73.730003,79.610001,1630800,79.610001']"
                    }
                }
            ], 
            "execution_count": 2, 
            "source": "rdd = sc.textFile(\"swift://CS340.\" + name + \"/TableauSoftwareStockPrice.csv\")\nrdd.take(20)"
        }, 
        {
            "metadata": {
                "collapsed": false
            }, 
            "cell_type": "code", 
            "outputs": [
                {
                    "metadata": {}, 
                    "output_type": "execute_result", 
                    "execution_count": 3, 
                    "data": {
                        "text/plain": "[u'10.1.0.2,16.2.3.7,12,20K,http',\n u'18.6.7.1,12.4.0.3,16,24K,http',\n u'13.9.4.3,11.6.8.2,15,20K,http',\n u'15.2.2.9,17.1.2.1,19,40K,http',\n u'12.4.3.8,14.8.7.4,26,58K,http']"
                    }
                }
            ], 
            "execution_count": 3, 
            "source": "# The SQLContext object is already initalized for you.\n# The following variable contains the path to your file on your Object Storage.\npath_1 = \"swift://CS340.\" + name + \"/NetflowData.txt\"\nrdd_data_2 = sc.textFile(path_1)\nrdd_data_2.take(5)"
        }, 
        {
            "metadata": {
                "scrolled": true, 
                "collapsed": false
            }, 
            "cell_type": "code", 
            "outputs": [
                {
                    "text": "\n    Main entry point for Spark functionality. A SparkContext represents the\n    connection to a Spark cluster, and can be used to create L{RDD} and\n    broadcast variables on that cluster.\n    \n", 
                    "name": "stdout", 
                    "output_type": "stream"
                }
            ], 
            "execution_count": 4, 
            "source": "print sc.__doc__"
        }, 
        {
            "metadata": {
                "collapsed": false
            }, 
            "cell_type": "code", 
            "outputs": [
                {
                    "metadata": {}, 
                    "output_type": "execute_result", 
                    "execution_count": 5, 
                    "data": {
                        "text/plain": "[u'\"Table Code\",\"Country or Area Code\",\"Country or Area\",\"Year\",\"Area Code\",\"Area\",\"Sex Code\",\"Sex\",\"Code of Age\",\"Age\",\"Code of Occupation\",\"Occupation\",\"Record Type Code\",\"Record Type\",\"Reliability Code\",\"Reliability\",\"Source Year\",\"Value\",\"Value Footnotes\"',\n u'\"322\",\"248\",\"\\xc5land Islands\",\"2000\",\"0\",\"Total\",\"0\",\"Both Sexes\",\"015024\",\"15 - 24\",\"088000\",\"Armed forces (ISCO 88 - 0)\",\"5\",\"Census - de jure - complete tabulation\",\"0\",\"Final figure, complete\",\"2009\",\"0\",\"\"',\n u'\"322\",\"248\",\"\\xc5land Islands\",\"2000\",\"0\",\"Total\",\"0\",\"Both Sexes\",\"015024\",\"15 - 24\",\"088001\",\"Legislators, senior officials and managers (ISCO 88 - 1)\",\"5\",\"Census - de jure - complete tabulation\",\"0\",\"Final figure, complete\",\"2009\",\"1\",\"\"',\n u'\"322\",\"248\",\"\\xc5land Islands\",\"2000\",\"0\",\"Total\",\"0\",\"Both Sexes\",\"015024\",\"15 - 24\",\"088002\",\"Professionals (ISCO 88 - 2)\",\"5\",\"Census - de jure - complete tabulation\",\"0\",\"Final figure, complete\",\"2009\",\"58\",\"\"',\n u'\"322\",\"248\",\"\\xc5land Islands\",\"2000\",\"0\",\"Total\",\"0\",\"Both Sexes\",\"015024\",\"15 - 24\",\"088003\",\"Technicians and associate professionals (ISCO 88 - 3)\",\"5\",\"Census - de jure - complete tabulation\",\"0\",\"Final figure, complete\",\"2009\",\"65\",\"\"']"
                    }
                }
            ], 
            "execution_count": 5, 
            "source": "rdd = sc.textFile(\"swift://CS340.\" + name + \"/EmployedPopulationbyOccupationAge.csv\")\nrdd.take(5)"
        }, 
        {
            "metadata": {
                "collapsed": false
            }, 
            "cell_type": "code", 
            "outputs": [
                {
                    "metadata": {}, 
                    "output_type": "execute_result", 
                    "execution_count": 6, 
                    "data": {
                        "text/plain": "21327"
                    }
                }
            ], 
            "execution_count": 6, 
            "source": "rdd.count()"
        }, 
        {
            "metadata": {
                "collapsed": false
            }, 
            "cell_type": "code", 
            "outputs": [
                {
                    "metadata": {}, 
                    "output_type": "execute_result", 
                    "execution_count": 7, 
                    "data": {
                        "text/plain": "u'\"Table Code\",\"Country or Area Code\",\"Country or Area\",\"Year\",\"Area Code\",\"Area\",\"Sex Code\",\"Sex\",\"Code of Age\",\"Age\",\"Code of Occupation\",\"Occupation\",\"Record Type Code\",\"Record Type\",\"Reliability Code\",\"Reliability\",\"Source Year\",\"Value\",\"Value Footnotes\"'"
                    }
                }
            ], 
            "execution_count": 7, 
            "source": "rdd.first()"
        }, 
        {
            "metadata": {
                "collapsed": false
            }, 
            "cell_type": "code", 
            "outputs": [
                {
                    "metadata": {}, 
                    "output_type": "execute_result", 
                    "execution_count": 8, 
                    "data": {
                        "text/plain": "1091"
                    }
                }
            ], 
            "execution_count": 8, 
            "source": "rdd.filter(lambda line: \"Armed forces\" in line).count()"
        }, 
        {
            "metadata": {
                "collapsed": true
            }, 
            "cell_type": "code", 
            "outputs": [], 
            "execution_count": null, 
            "source": ""
        }
    ], 
    "nbformat_minor": 0, 
    "nbformat": 4
}