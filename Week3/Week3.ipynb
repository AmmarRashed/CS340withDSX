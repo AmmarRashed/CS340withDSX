{
    "cells": [
        {
            "cell_type": "code", 
            "metadata": {
                "collapsed": true
            }, 
            "outputs": [], 
            "source": "# The code was removed by DSX for sharing.", 
            "execution_count": 1
        }, 
        {
            "cell_type": "markdown", 
            "metadata": {}, 
            "source": "<h1>Stock Price Example</h1>"
        }, 
        {
            "cell_type": "code", 
            "metadata": {
                "collapsed": true
            }, 
            "outputs": [], 
            "source": "stocks = sc.textFile(\"swift://CS340.\" + name + \"/TableauSoftwareStockPrice.csv\")", 
            "execution_count": 2
        }, 
        {
            "cell_type": "code", 
            "metadata": {
                "collapsed": false
            }, 
            "outputs": [
                {
                    "metadata": {}, 
                    "data": {
                        "text/plain": "u'Date,Open,High,Low,Close,Volume,Adj Close'"
                    }, 
                    "execution_count": 3, 
                    "output_type": "execute_result"
                }
            ], 
            "source": "stocks.first()", 
            "execution_count": 3
        }, 
        {
            "cell_type": "code", 
            "metadata": {
                "collapsed": false
            }, 
            "outputs": [
                {
                    "metadata": {}, 
                    "data": {
                        "text/plain": "[u'Date,Open,High,Low,Close,Volume,Adj Close',\n u'2016-03-01,46.41,48.630001,46.049999,48.599998,2832200,48.599998',\n u'2016-02-29,44.57,46.32,44.299999,45.650002,1914900,45.650002',\n u'2016-02-26,43.91,45.139999,43.009998,44.41,2677200,44.41',\n u'2016-02-25,43.330002,44.389999,42.349998,43.060001,1784600,43.060001',\n u'2016-02-24,40.50,42.16,39.619999,42.07,1580300,42.07',\n u'2016-02-23,42.599998,42.66,40.619999,40.84,1649600,40.84',\n u'2016-02-22,43.200001,43.200001,42.009998,42.66,1594200,42.66',\n u'2016-02-19,41.00,42.650002,40.509998,42.389999,1488300,42.389999',\n u'2016-02-18,41.91,42.400002,40.959999,41.09,1278500,41.09',\n u'2016-02-17,40.360001,42.16,40.189999,42.09,3071100,42.09',\n u'2016-02-16,40.970001,41.740002,39.779999,40.169998,2422200,40.169998',\n u'2016-02-12,40.459999,41.200001,39.07,40.25,1979000,40.25',\n u'2016-02-11,39.119999,40.380001,38.52,39.98,1770500,39.98',\n u'2016-02-10,40.09,41.080002,38.77,39.860001,3228000,39.860001',\n u'2016-02-09,36.599998,40.59,36.599998,39.23,5577300,39.23',\n u'2016-02-08,39.130001,40.52,36.860001,37.220001,6903400,37.220001',\n u'2016-02-05,44.049999,45.639999,40.040001,41.330002,21197700,41.330002',\n u'2016-02-04,79.489998,82.919998,77.730003,81.75,2917800,81.75',\n u'2016-02-03,77.919998,79.970001,73.730003,79.610001,1630800,79.610001']"
                    }, 
                    "execution_count": 4, 
                    "output_type": "execute_result"
                }
            ], 
            "source": "stocks.take(20)", 
            "execution_count": 4
        }, 
        {
            "cell_type": "code", 
            "metadata": {
                "scrolled": true, 
                "collapsed": false
            }, 
            "outputs": [
                {
                    "metadata": {}, 
                    "data": {
                        "text/plain": "[(u'Date,Open,High,Low,Close,Volume,Adj Close', 0),\n (u'2016-03-01,46.41,48.630001,46.049999,48.599998,2832200,48.599998', 1),\n (u'2016-02-29,44.57,46.32,44.299999,45.650002,1914900,45.650002', 2),\n (u'2016-02-26,43.91,45.139999,43.009998,44.41,2677200,44.41', 3),\n (u'2016-02-25,43.330002,44.389999,42.349998,43.060001,1784600,43.060001', 4),\n (u'2016-02-24,40.50,42.16,39.619999,42.07,1580300,42.07', 5),\n (u'2016-02-23,42.599998,42.66,40.619999,40.84,1649600,40.84', 6),\n (u'2016-02-22,43.200001,43.200001,42.009998,42.66,1594200,42.66', 7),\n (u'2016-02-19,41.00,42.650002,40.509998,42.389999,1488300,42.389999', 8),\n (u'2016-02-18,41.91,42.400002,40.959999,41.09,1278500,41.09', 9)]"
                    }, 
                    "execution_count": 5, 
                    "output_type": "execute_result"
                }
            ], 
            "source": "stocks.zipWithIndex().take(10)", 
            "execution_count": 5
        }, 
        {
            "cell_type": "code", 
            "metadata": {
                "collapsed": false
            }, 
            "outputs": [], 
            "source": "rdd = stocks.zipWithIndex().filter(lambda x: x[1]>0).map(lambda x: x[0])", 
            "execution_count": 7
        }, 
        {
            "cell_type": "code", 
            "metadata": {
                "collapsed": false
            }, 
            "outputs": [], 
            "source": "step2 = rdd.map(lambda line: (line.split(\",\")[0][:-3],line.split(\",\")[1]))", 
            "execution_count": 8
        }, 
        {
            "cell_type": "code", 
            "metadata": {
                "collapsed": false
            }, 
            "outputs": [], 
            "source": "step3 = step2.mapValues(lambda x: (float(x),1))", 
            "execution_count": 9
        }, 
        {
            "cell_type": "code", 
            "metadata": {
                "collapsed": false
            }, 
            "outputs": [
                {
                    "metadata": {}, 
                    "data": {
                        "text/plain": "[(u'2016-03', (46.41, 1)),\n (u'2016-02', (44.57, 1)),\n (u'2016-02', (43.91, 1)),\n (u'2016-02', (43.330002, 1)),\n (u'2016-02', (40.5, 1)),\n (u'2016-02', (42.599998, 1)),\n (u'2016-02', (43.200001, 1)),\n (u'2016-02', (41.0, 1)),\n (u'2016-02', (41.91, 1)),\n (u'2016-02', (40.360001, 1))]"
                    }, 
                    "execution_count": 10, 
                    "output_type": "execute_result"
                }
            ], 
            "source": "step3.take(10)", 
            "execution_count": 10
        }, 
        {
            "cell_type": "code", 
            "metadata": {
                "collapsed": false
            }, 
            "outputs": [
                {
                    "metadata": {}, 
                    "data": {
                        "text/plain": "[(u'2013-05', 51.5580008),\n (u'2013-06', 54.39100034999999),\n (u'2013-07', 56.22136377272727),\n (u'2013-08', 65.20545450000002),\n (u'2013-09', 72.76199864999998),\n (u'2013-10', 67.23391313043477),\n (u'2013-11', 63.25700019999999),\n (u'2013-12', 66.069524),\n (u'2014-01', 72.71190466666668),\n (u'2014-02', 93.42842057894735),\n (u'2014-03', 87.74666733333332),\n (u'2014-04', 66.63809485714285),\n (u'2014-05', 57.77904752380952),\n (u'2014-06', 64.178572),\n (u'2014-07', 64.20136313636364),\n (u'2014-08', 61.21095223809524),\n (u'2014-09', 71.41190542857144),\n (u'2014-10', 72.37695669565217),\n (u'2014-11', 82.75473710526315),\n (u'2014-12', 84.18454577272726),\n (u'2015-01', 83.77700039999999),\n (u'2015-02', 95.14631526315789),\n (u'2015-03', 93.65681736363635),\n (u'2015-04', 97.12000047619047),\n (u'2015-05', 108.50600060000002),\n (u'2015-06', 117.77954559090908),\n (u'2015-07', 120.50772677272727),\n (u'2015-08', 101.02761866666664),\n (u'2015-09', 89.33761928571428),\n (u'2015-10', 82.97318240909091),\n (u'2015-11', 93.63649975000001),\n (u'2015-12', 92.74590927272727),\n (u'2016-01', 83.85263189473683),\n (u'2016-02', 49.00799995),\n (u'2016-03', 46.41)]"
                    }, 
                    "execution_count": 11, 
                    "output_type": "execute_result"
                }
            ], 
            "source": "step3.reduceByKey(lambda x,y: (x[0]+y[0],x[1]+y[1])).mapValues(lambda t: t[0]/t[1]).sortByKey().collect()", 
            "execution_count": 11
        }, 
        {
            "cell_type": "code", 
            "metadata": {
                "collapsed": false
            }, 
            "outputs": [
                {
                    "metadata": {}, 
                    "data": {
                        "text/plain": "55672.59002900003"
                    }, 
                    "execution_count": 8, 
                    "output_type": "execute_result"
                }
            ], 
            "source": "stocks.zipWithIndex().filter(lambda x: x[1]>0).map(lambda x: float(x[0].split(\",\")[1])).reduce(lambda x,y: x+y) ", 
            "execution_count": 8
        }, 
        {
            "cell_type": "code", 
            "metadata": {
                "collapsed": true
            }, 
            "outputs": [], 
            "source": "total = stocks.zipWithIndex().filter(lambda x: x[1]>0).map(lambda x: float(x[0].split(\",\")[1])).reduce(lambda x,y: x+y) ", 
            "execution_count": 16
        }, 
        {
            "cell_type": "code", 
            "metadata": {
                "collapsed": false
            }, 
            "outputs": [
                {
                    "metadata": {}, 
                    "data": {
                        "text/plain": "79.30568380199435"
                    }, 
                    "execution_count": 17, 
                    "output_type": "execute_result"
                }
            ], 
            "source": "total / (stocks.count()-1)", 
            "execution_count": 17
        }, 
        {
            "cell_type": "markdown", 
            "metadata": {}, 
            "source": "<h1>Netflow Data Example</h1>"
        }, 
        {
            "cell_type": "code", 
            "metadata": {
                "collapsed": true
            }, 
            "outputs": [], 
            "source": "# The code was removed by DSX for sharing.", 
            "execution_count": 18
        }, 
        {
            "cell_type": "code", 
            "metadata": {
                "collapsed": true
            }, 
            "outputs": [], 
            "source": "network = sc.textFile(path_1)", 
            "execution_count": 21
        }, 
        {
            "cell_type": "code", 
            "metadata": {
                "collapsed": false
            }, 
            "outputs": [
                {
                    "metadata": {}, 
                    "data": {
                        "text/plain": "(u'http', u'10.1.0.2,16.2.3.7,12,20K,http')"
                    }, 
                    "execution_count": 22, 
                    "output_type": "execute_result"
                }
            ], 
            "source": "network.map(lambda line: (line.split(\",\")[-1], line)).first()", 
            "execution_count": 22
        }, 
        {
            "cell_type": "code", 
            "metadata": {
                "collapsed": false
            }, 
            "outputs": [
                {
                    "metadata": {}, 
                    "data": {
                        "text/plain": "(u'http', u'20K')"
                    }, 
                    "execution_count": 23, 
                    "output_type": "execute_result"
                }
            ], 
            "source": "network.map(lambda line: (line.split(\",\")[-1], line.split(\",\")[-2])).first()", 
            "execution_count": 23
        }, 
        {
            "cell_type": "code", 
            "metadata": {
                "collapsed": false
            }, 
            "outputs": [
                {
                    "metadata": {}, 
                    "data": {
                        "text/plain": "(u'http', u'20')"
                    }, 
                    "execution_count": 103, 
                    "output_type": "execute_result"
                }
            ], 
            "source": "network.map(lambda line: (line.split(\",\")[-1], line.split(\",\")[-2][:-1])).first()", 
            "execution_count": 103
        }, 
        {
            "cell_type": "code", 
            "metadata": {
                "collapsed": false
            }, 
            "outputs": [], 
            "source": "massaged = network.map(lambda line: (line.split(\",\")[-1], float(line.split(\",\")[-2][:-1])))", 
            "execution_count": 25
        }, 
        {
            "cell_type": "code", 
            "metadata": {
                "collapsed": false
            }, 
            "outputs": [
                {
                    "metadata": {}, 
                    "data": {
                        "text/plain": "(u'http', 20.0)"
                    }, 
                    "execution_count": 26, 
                    "output_type": "execute_result"
                }
            ], 
            "source": "massaged.first()", 
            "execution_count": 26
        }, 
        {
            "cell_type": "code", 
            "metadata": {
                "collapsed": false
            }, 
            "outputs": [
                {
                    "metadata": {}, 
                    "data": {
                        "text/plain": "[(u'http', <pyspark.resultiterable.ResultIterable at 0x7f92ef06d890>),\n (u'ftp', <pyspark.resultiterable.ResultIterable at 0x7f92ef06d290>)]"
                    }, 
                    "execution_count": 35, 
                    "output_type": "execute_result"
                }
            ], 
            "source": "massaged.groupByKey().collect()", 
            "execution_count": 35
        }, 
        {
            "cell_type": "code", 
            "metadata": {
                "collapsed": false
            }, 
            "outputs": [
                {
                    "metadata": {}, 
                    "data": {
                        "text/plain": "[(u'http', 1810.0), (u'ftp', 1203.0)]"
                    }, 
                    "execution_count": 36, 
                    "output_type": "execute_result"
                }
            ], 
            "source": "massaged.reduceByKey(lambda x, y: x+y).collect()", 
            "execution_count": 36
        }, 
        {
            "cell_type": "code", 
            "metadata": {
                "collapsed": false
            }, 
            "outputs": [
                {
                    "metadata": {}, 
                    "data": {
                        "text/plain": "(u'http', 20.0)"
                    }, 
                    "execution_count": 53, 
                    "output_type": "execute_result"
                }
            ], 
            "source": "tupled.mapValues(lambda x: float(x[:-1])).first()", 
            "execution_count": 53
        }, 
        {
            "cell_type": "markdown", 
            "metadata": {}, 
            "source": "<h1>Word Count</h1>"
        }, 
        {
            "cell_type": "code", 
            "metadata": {
                "collapsed": true
            }, 
            "outputs": [], 
            "source": "# The code was removed by DSX for sharing.", 
            "execution_count": 38
        }, 
        {
            "cell_type": "code", 
            "metadata": {
                "collapsed": false
            }, 
            "outputs": [], 
            "source": "wordCounts = sc.textFile(path_2).flatMap(lambda line: line.split()).map(lambda word: word.lower()).map(lambda word: (word,1)).reduceByKey(lambda x,y: x+y)", 
            "execution_count": 39
        }, 
        {
            "cell_type": "code", 
            "metadata": {
                "collapsed": false
            }, 
            "outputs": [
                {
                    "metadata": {}, 
                    "data": {
                        "text/plain": "[(u'the', 5526),\n (u'and', 2813),\n (u'to', 2643),\n (u'of', 2633),\n (u'a', 2592),\n (u'i', 2533),\n (u'in', 1701),\n (u'that', 1591),\n (u'was', 1369),\n (u'he', 1276),\n (u'it', 1254),\n (u'his', 1146),\n (u'you', 1103),\n (u'is', 1057),\n (u'my', 955),\n (u'have', 897),\n (u'as', 839),\n (u'with', 822),\n (u'had', 812),\n (u'at', 755),\n (u'which', 747),\n (u'for', 701),\n (u'be', 596),\n (u'not', 582),\n (u'but', 537),\n (u'we', 493),\n (u'from', 484),\n (u'upon', 459),\n (u'said', 448),\n (u'this', 419),\n (u'me', 414),\n (u'there', 394),\n (u'she', 389),\n (u'been', 385),\n (u'her', 378),\n (u'very', 376),\n (u'your', 370),\n (u'on', 356),\n (u'\"i', 349),\n (u'were', 337),\n (u'so', 336),\n (u'an', 329),\n (u'by', 328),\n (u'all', 321),\n (u'would', 317),\n (u'what', 311),\n (u'one', 307),\n (u'are', 300),\n (u'when', 294),\n (u'no', 289),\n (u'could', 283),\n (u'has', 278),\n (u'out', 274),\n (u'into', 272),\n (u'mr.', 262),\n (u'who', 258),\n (u'little', 257),\n (u'him', 253),\n (u'up', 249),\n (u'will', 246),\n (u'some', 237),\n (u'if', 234),\n (u'do', 218),\n (u'should', 207),\n (u'our', 206),\n (u'down', 205),\n (u'holmes', 197),\n (u'man', 195),\n (u'or', 192),\n (u'may', 189),\n (u'see', 187),\n (u'am', 181),\n (u'they', 174),\n (u'shall', 169),\n (u'about', 162),\n (u'over', 162),\n (u'then', 160),\n (u'must', 160),\n (u'can', 159),\n (u'than', 157),\n (u'only', 154),\n (u'more', 151),\n (u'came', 142),\n (u'before', 137),\n (u'did', 137),\n (u'know', 136),\n (u'two', 135),\n (u'think', 133),\n (u'\"it', 133),\n (u'any', 127),\n (u'other', 127),\n (u'holmes,', 125),\n (u'us', 125),\n (u'come', 123),\n (u'might', 123),\n (u'\"you', 120),\n (u'just', 119),\n (u'now', 115),\n (u'how', 111),\n (u'\"and', 110),\n (u'it.', 110),\n (u'such', 108),\n (u'back', 106),\n (u'much', 106),\n (u'heard', 104),\n (u'where', 104),\n (u'time', 102),\n (u'made', 102),\n (u'found', 97),\n (u'sherlock', 96),\n (u'their', 96),\n (u'however,', 96),\n (u'never', 95),\n (u'after', 94),\n (u'own', 94),\n (u'it,', 91),\n (u'like', 90),\n (u'quite', 89),\n (u'nothing', 87),\n (u'its', 86),\n (u'tell', 86),\n (u'good', 86),\n (u'most', 85),\n (u'\"but', 85),\n (u'took', 84),\n (u'saw', 84),\n (u'them', 84),\n (u'through', 84),\n (u'me,', 83),\n (u'miss', 83),\n (u'him.', 82),\n (u'away', 82),\n (u'st.', 81),\n (u'every', 81),\n (u'go', 80),\n (u'face', 79),\n (u'holmes.', 78),\n (u'\"the', 78),\n (u'left', 77),\n (u'way', 77),\n (u'then,', 77),\n (u'take', 76),\n (u'few', 76),\n (u'young', 75),\n (u'you,', 75),\n (u'matter', 75),\n (u'find', 75),\n (u'door', 75),\n (u'until', 74),\n (u'me.', 74),\n (u'last', 74),\n (u'case', 74),\n (u'small', 73),\n (u'make', 73),\n (u'without', 72),\n (u'here', 72),\n (u'say', 72),\n (u'these', 72),\n (u'long', 72),\n (u'even', 69),\n (u'he,', 69),\n (u'round', 68),\n (u'having', 67),\n (u'first', 67),\n (u'once', 67),\n (u'put', 67),\n (u'\"well,', 67),\n (u'yet', 66),\n (u'while', 66),\n (u'seemed', 65),\n (u'three', 65),\n (u'him,', 64),\n (u'now,', 64),\n (u'those', 64),\n (u'thought', 64),\n (u'old', 63),\n (u'let', 63),\n (u'went', 63),\n (u'\"that', 63),\n (u'seen', 62),\n (u'right', 62),\n (u'hand', 61),\n (u'still', 61),\n (u'look', 61),\n (u'himself', 61),\n (u'he.', 61),\n (u'ever', 61),\n (u'though', 60),\n (u'something', 60),\n (u'rather', 60),\n (u'get', 59),\n (u'\"oh,', 58),\n (u'between', 58),\n (u'room', 58),\n (u'light', 58),\n (u'great', 58),\n (u'eyes', 58),\n (u'\"yes,', 58),\n (u'you.', 57),\n (u'and,', 57),\n (u'give', 56),\n (u'man,', 56),\n (u'off', 56),\n (u'always', 55),\n (u'sat', 54),\n (u'too', 54),\n (u'knew', 53),\n (u'same', 53),\n (u'myself', 53),\n (u'far', 53),\n (u'side', 52),\n (u'morning', 52),\n (u'done', 52),\n (u'\"what', 51),\n (u'got', 51),\n (u'against', 51),\n (u'looked', 51),\n (u'years', 50),\n (u'house', 50),\n (u'day', 50),\n (u'turned', 50),\n (u'hardly', 50),\n (u'doubt', 49),\n (u'told', 49),\n (u'brought', 49),\n (u'friend', 49),\n (u'dear', 49),\n (u'business', 48),\n (u'well', 48),\n (u'father', 47),\n (u'black', 47),\n (u'cannot', 46),\n (u'gave', 46),\n (u'mind', 46),\n (u'asked', 45),\n (u'being', 45),\n (u'lady', 45),\n (u'front', 45),\n (u'within', 44),\n (u'anything', 44),\n (u'head', 44),\n (u'both', 43),\n (u'already', 43),\n (u'\"my', 43),\n (u'\"he', 43),\n (u'behind', 43),\n (u'whole', 43),\n (u'hands', 42),\n (u'name', 42),\n (u'leave', 42),\n (u'lay', 41),\n (u'wish', 41),\n (u'really', 41),\n (u'looking', 41),\n (u'enough', 41),\n (u'whether', 41),\n (u'set', 40),\n (u'watson,', 40),\n (u'strange', 40),\n (u'under', 40),\n (u'better', 40),\n (u'large', 40),\n (u'so.', 39),\n (u'\"no,', 39),\n (u'why', 39),\n (u'then?\"', 39),\n (u'call', 39),\n (u'mrs.', 39),\n (u'\"then', 39),\n (u'less', 38),\n (u'also', 38),\n (u'whom', 38),\n (u'open', 38),\n (u'passed', 38),\n (u'perhaps', 38),\n (u'many', 37),\n (u'half', 37),\n (u'help', 37),\n (u'soon', 37),\n (u'during', 37),\n (u'end', 37),\n (u'lord', 36),\n (u'met', 36),\n (u'chair', 36),\n (u'room,', 36),\n (u'suddenly', 36),\n (u'it.\"', 35),\n (u'save', 35),\n (u'across', 35),\n (u'among', 35),\n (u'wife', 35),\n (u'woman', 35),\n (u'\"this', 34),\n (u'home', 34),\n (u'clear', 34),\n (u'\"there', 34),\n (u'stood', 34),\n (u'possible', 33),\n (u'gone', 33),\n (u'does', 33),\n (u'i,', 33),\n (u'night', 33),\n (u'yourself', 33),\n (u'rushed', 33),\n (u'up,', 33),\n (u'ask', 33),\n (u'life', 33),\n (u'asked.', 33),\n (u'baker', 33),\n (u'cried', 33),\n (u'singular', 32),\n (u'since', 32),\n (u'strong', 32),\n (u'thing', 32),\n (u'each', 32),\n (u'remarked', 32),\n (u'sure', 32),\n (u'five', 32),\n (u'gentleman', 32),\n (u'you.\"', 32),\n (u'window', 32),\n (u'is,', 31),\n (u'either', 31),\n (u'became', 31),\n (u'think,', 31),\n (u'read', 31),\n (u'another', 31),\n (u'hand,', 31),\n (u'laid', 31),\n (u'door,', 30),\n (u'course', 30),\n (u'opened', 30),\n (u'felt', 30),\n (u'several', 30),\n (u'room.', 30),\n (u'able', 30),\n (u'hear', 30),\n (u'returned', 29),\n (u'new', 29),\n (u'threw', 29),\n (u'again', 29),\n (u'days', 29),\n (u'us.', 29),\n (u'that,', 29),\n (u'near', 29),\n (u'word', 29),\n (u'house,', 29),\n (u'least', 29),\n (u'given', 29),\n (u'words', 29),\n (u'dr.', 28),\n (u'part', 28),\n (u'papers', 28),\n (u'hope', 28),\n (u'time,', 28),\n (u'morning,', 28),\n (u'use', 28),\n (u'cut', 27),\n (u\"don't\", 27),\n (u'believe', 27),\n (u'turn', 27),\n (u'window,', 27),\n (u'four', 27),\n (u'dark', 27),\n (u'walked', 27),\n (u'certainly', 27),\n (u'heavy', 27),\n (u'hair', 27),\n (u'minutes', 27),\n (u'place', 27),\n (u'keep', 26),\n (u'drove', 26),\n (u'pounds', 26),\n (u'corner', 26),\n (u'coming', 26),\n (u'called', 26),\n (u'best', 26),\n (u'man.', 26),\n (u'street.', 26),\n (u'ran', 26),\n (u'so,', 25),\n (u'going', 25),\n (u'paper', 25),\n (u'door.', 25),\n (u'street', 25),\n (u'work', 25),\n (u'i.', 25),\n (u'point', 25),\n (u'rucastle', 25),\n (u'\"we', 25),\n (u'want', 25),\n (u'course,', 25),\n (u'led', 25),\n (u'sir,', 25),\n (u'taken', 25),\n (u'there,', 25),\n (u'facts', 25),\n (u'police', 25),\n (u'moment', 25),\n (u'absolutely', 25),\n (u'face,', 25),\n (u'beside', 25),\n (u'seems', 25),\n (u'waiting', 25),\n (u'son', 24),\n (u'all,', 24),\n (u'cry', 24),\n (u'held', 24),\n (u'men', 24),\n (u'answered', 24),\n (u'\"a', 24),\n (u'hat', 24),\n (u'appeared', 24),\n (u'above', 24),\n (u'street,', 24),\n (u'began', 24),\n (u'seven', 24),\n (u'out,', 24),\n (u'it?\"', 24),\n (u'ten', 24),\n (u'me.\"', 24),\n (u'\"your', 24),\n (u'her,', 23),\n (u'well,', 23),\n (u'them.', 23),\n (u'them,', 23),\n (u'used', 23),\n (u'sprang', 23),\n (u'glancing', 23),\n (u'followed', 23),\n (u'sister', 23),\n (u'house.', 23),\n (u'anyone', 23),\n (u'hour', 23),\n (u'understand', 23),\n (u'obvious', 23),\n (u'white', 23),\n (u'known', 23),\n (u'question', 23),\n (u'one,', 23),\n (u'things', 22),\n (u'rose', 22),\n (u'bring', 22),\n (u\"o'clock\", 22),\n (u'simon', 22),\n (u'colonel', 22),\n (u'glanced', 22),\n (u'\"\\'i', 22),\n (u'carried', 22),\n (u'second', 22),\n (u'letter', 22),\n (u'hurried', 22),\n (u'struck', 22),\n (u'interest', 22),\n (u'sound', 22),\n (u'day,', 22),\n (u'blue', 22),\n (u'face.', 22),\n (u'next', 21),\n (u'considerable', 21),\n (u'remember', 21),\n (u'indeed', 21),\n (u'else', 21),\n (u'seeing', 21),\n (u'whose', 21),\n (u'mccarthy', 21),\n (u'money', 21),\n (u'hard', 21),\n (u'king', 21),\n (u'six', 21),\n (u'standing', 21),\n (u'step', 21),\n (u'started', 21),\n (u'lost', 21),\n (u'entered', 21),\n (u'deep', 21),\n (u'instant', 21),\n (u'\"how', 21),\n (u'lestrade', 21),\n (u'poor', 21),\n (u'drawn', 20),\n (u'evening', 20),\n (u'grey', 20),\n (u'towards', 20),\n (u'short', 20),\n (u'\"pray', 20),\n (u'adventure', 20),\n (u'\"they', 20),\n (u'said,', 20),\n (u\"'i\", 20),\n (u'hosmer', 20),\n (u'doing', 20),\n (u'red', 20),\n (u'easy', 20),\n (u'caught', 20),\n (u'reason', 20),\n (u'family', 20),\n (u'likely', 20),\n (u'forward', 20),\n (u'london', 20),\n (u'\"in', 20),\n (u'\"if', 20),\n (u'pray', 20),\n (u'story', 20),\n (u'night,', 20),\n (u'fear', 20),\n (u'closed', 20),\n (u'spoke', 19),\n (u'people', 19),\n (u'peculiar', 19),\n (u'rooms', 19),\n (u'john', 19),\n (u'\"when', 19),\n (u'case,', 19),\n (u'sign', 19),\n (u'see,', 19),\n (u'red-headed', 19),\n (u'all.', 19),\n (u'reached', 19),\n (u'us,', 19),\n (u'table', 19),\n (u'showed', 19),\n (u'steps', 19),\n (u'stone', 19),\n (u'watson,\"', 19),\n (u'sent', 19),\n (u'answered.', 19),\n (u'true', 19),\n (u'shown', 19),\n (u'inspector', 19),\n (u\"'you\", 19),\n (u'country', 18),\n (u'\"very', 18),\n (u'placed', 18),\n (u'order', 18),\n (u'manner', 18),\n (u'speak', 18),\n (u'hundred', 18),\n (u'close', 18),\n (u'idea', 18),\n (u'\"not', 18),\n (u'extraordinary', 18),\n (u'afraid', 18),\n (u'neville', 18),\n (u'note', 18),\n (u'single', 18),\n (u'sight', 18),\n (u'that.', 18),\n (u'chance', 18),\n (u'daughter', 18),\n (u'are,', 18),\n (u'ready', 18),\n (u'need', 18),\n (u'written', 18),\n (u'talk', 18),\n (u'eye', 18),\n (u'matter,', 18),\n (u'account', 18),\n (u'almost', 18),\n (u'feet', 18),\n (u'present', 18),\n (u'person', 17),\n (u'fresh', 17),\n (u'air', 17),\n (u'client', 17),\n (u'cab', 17),\n (u'james', 17),\n (u'cried,', 17),\n (u'making', 17),\n (u'coronet', 17),\n (u'crime', 17),\n (u'quiet', 17),\n (u'pulled', 17),\n (u'past', 17),\n (u\"holmes'\", 17),\n (u'cold', 17),\n (u'you,\"', 17),\n (u\"i'll\", 17),\n (u'hand.', 17),\n (u'cause', 17),\n (u'slowly', 17),\n (u'seem', 17),\n (u'none', 17),\n (u'matter.', 17),\n (u'body', 17),\n (u'bed', 17),\n (u'remarkable', 17),\n (u'know,', 17),\n (u'feel', 17),\n (u'windows', 17),\n (u'remarked,', 17),\n (u'happy', 16),\n (u'you?\"', 16),\n (u'cried.', 16),\n (u'way,', 16),\n (u'understand,', 16),\n (u'him.\"', 16),\n (u'remained', 16),\n (u'dreadful', 16),\n (u'meet', 16),\n (u'effect', 16),\n (u'points', 16),\n (u'here,', 16),\n (u'show', 16),\n (u'sudden', 16),\n (u'train', 16),\n (u\"it's\", 16),\n (u'shook', 16),\n (u'dropped', 16),\n (u'married', 16),\n (u'along', 16),\n (u'love', 16),\n (u'side.', 16),\n (u'marriage', 16),\n (u'fire', 16),\n (u'surprised', 16),\n (u'letters', 16),\n (u'in,', 16),\n (u'change', 16),\n (u'no,', 16),\n (u'nor', 16),\n (u'there.', 16),\n (u'drew', 16),\n (u'turning', 16),\n (u'do,', 16),\n (u'late', 16),\n (u'doctor,', 16),\n (u'\"to', 16),\n (u'too,', 16),\n (u'glad', 16),\n (u'well.', 15),\n (u'caused', 15),\n (u'full', 15),\n (u'imagine', 15),\n (u'feeling', 15),\n (u'appears', 15),\n (u'year', 15),\n (u'fell', 15),\n (u'low', 15),\n (u'kindly', 15),\n (u'probably', 15),\n (u'impression', 15),\n (u'yes,', 15),\n (u'but,', 15),\n (u'mary', 15),\n (u'fellow', 15),\n (u'sitting', 15),\n (u'someone', 15),\n (u'ourselves', 15),\n (u'frank', 15),\n (u'position', 15),\n (u'laughed', 15),\n (u'afterwards', 15),\n (u'attention', 15),\n (u'sit', 15),\n (u'eyes,', 15),\n (u'wooden', 15),\n (u'\"do', 15),\n (u'boscombe', 15),\n (u'oh,', 15),\n (u'dress', 15),\n (u'\"thank', 15),\n (u'line', 15),\n (u'again.', 15),\n (u'again,', 15),\n (u'glance', 15),\n (u'said.', 15),\n (u'observed', 15),\n (u'together', 15),\n (u'fact', 15),\n (u\"didn't\", 15),\n (u'goose', 15),\n (u'silence', 15),\n (u\"won't\", 15),\n (u'lamp', 15),\n (u'taking', 15),\n (u'indeed,', 15),\n (u'quick', 15),\n (u'cases', 15),\n (u'return', 15),\n (u'remarked.', 15),\n (u'entirely', 15),\n (u'nature', 14),\n (u'instantly', 14),\n (u'determined', 14),\n (u'open,', 14),\n (u'heart', 14),\n (u'hall', 14),\n (u'noble', 14),\n (u'pushed', 14),\n (u'terrible', 14),\n (u'\"here', 14),\n (u'friend,', 14),\n (u'down,', 14),\n (u'mine', 14),\n (u'visitor', 14),\n (u'interesting', 14),\n (u'public', 14),\n (u'sharp', 14),\n (u'amid', 14),\n (u'twice', 14),\n (u'news', 14),\n (u'everything', 14),\n (u'serious', 14),\n (u'happened', 14),\n (u'say,', 14),\n (u\"man's\", 14),\n (u'walk', 14),\n (u'because', 14),\n (u'\"so', 14),\n (u'sir.', 14),\n (u'listened', 14),\n (u'\"quite', 14),\n (u'broke', 14),\n (u'lying', 14),\n (u'confess', 14),\n (u'neither', 14),\n (u'key', 14),\n (u'right,', 14),\n (u'weeks', 14),\n (u'explain', 14),\n (u'deal', 14),\n (u'finally', 14),\n (u'back.', 14),\n (u'town', 14),\n (u'simple', 14),\n (u'private', 14),\n (u'hands.', 14),\n (u'figure', 14),\n (u'direction', 14),\n (u'son,', 14),\n (u'wrote', 14),\n (u'table.', 14),\n (u'sort', 14),\n (u'was,', 13),\n (u'object', 13),\n (u'long,', 13),\n (u'which,', 13),\n (u'absolute', 13),\n (u'not,', 13),\n (u'signs', 13),\n (u'head.', 13),\n (u'occurred', 13),\n (u'thin', 13),\n (u'bent', 13),\n (u'clearly', 13),\n (u'evidence', 13),\n (u'excuse', 13),\n (u'brown', 13),\n (u'professional', 13),\n (u'come,', 13),\n (u'father,', 13),\n (u'horrible', 13),\n (u'eyes.', 13),\n (u'wait', 13),\n (u'miles', 13),\n (u'pay', 13),\n (u'raise', 13),\n (u'matters', 13),\n (u'trust', 13),\n (u'\"ah,', 13),\n (u'\"is', 13),\n (u'place,', 13),\n (u'wrong', 13),\n (u'outside', 13),\n (u'rest', 13),\n (u'hours', 13),\n (u'experience', 13),\n (u'slipped', 13),\n (u'send', 13),\n (u'high', 13),\n (u'fellow,', 13),\n (u'live', 13),\n (u'husband', 13),\n (u'comes', 13),\n (u'whatever', 13),\n (u'more.', 13),\n (u'time.', 13),\n (u'she,', 13),\n (u'carriage', 13),\n (u'clair', 13),\n (u'irene', 13),\n (u'waited', 13),\n (u'running', 13),\n (u'break', 13),\n (u'mystery', 13),\n (u'week', 13),\n (u'night.', 13),\n (u'it,\"', 12),\n (u'pass', 12),\n (u'copper', 12),\n (u'death', 12),\n (u'others', 12),\n (u'garden', 12),\n (u'scene', 12),\n (u'means', 12),\n (u'details', 12),\n (u'safe', 12),\n (u'bed,', 12),\n (u'\"\\'you', 12),\n (u'care', 12),\n (u'tried', 12),\n (u'grew', 12),\n (u'chair,', 12),\n (u'last,', 12),\n (u'danger', 12),\n (u'beg', 12),\n (u'had,', 12),\n (u'examined', 12),\n (u'square', 12),\n (u'clothes', 12),\n (u'arms', 12),\n (u'hat,', 12),\n (u'\"yes.\"', 12),\n (u'nearly', 12),\n (u'wonder', 12),\n (u'companion', 12),\n (u'lady,', 12),\n (u'blood', 12),\n (u'k.', 12),\n (u'itself', 12),\n (u'slight', 12),\n (u'dressed', 12),\n (u'voice', 12),\n (u'excellent', 12),\n (u'off,', 12),\n (u'mother', 12),\n (u'myself.', 12),\n (u'cleared', 12),\n (u'way.', 12),\n (u'follow', 12),\n (u'double', 12),\n (u'centre', 12),\n (u'this,', 12),\n (u'yellow', 12),\n (u'locked', 12),\n (u'doubt,', 12),\n (u'alone', 12),\n (u'following', 12),\n (u'third', 12),\n (u\"can't\", 12),\n (u'deduce', 12),\n (u'\"by', 12),\n (u'kept', 12),\n (u'breakfast', 12),\n (u'foot', 12),\n (u'throwing', 12),\n (u'wished', 12),\n (u'before,', 12),\n (u'up.', 12),\n (u'answer', 12),\n (u'suppose', 12),\n (u'run', 12),\n (u'box', 12),\n (u'carry', 12),\n (u'shot', 12),\n (u'road', 12),\n (u'\"she', 12),\n (u'secret', 12),\n (u'eight', 12),\n (u'\"on', 12),\n (u'says', 12),\n (u'\"it\\'s', 12),\n (u'pipe', 12),\n (u'one.', 12),\n (u'her.', 11),\n (u'glass', 11),\n (u'perhaps,', 11),\n (u'was.', 11),\n (u'possibly', 11),\n (u'later', 11),\n (u'floor', 11),\n (u'address', 11),\n (u'evidently', 11),\n (u'drive', 11),\n (u'certain', 11),\n (u\"woman's\", 11),\n (u'number', 11),\n (u'curious', 11),\n (u'official', 11),\n (u'deeply', 11),\n (u'received', 11),\n (u'knows', 11),\n (u'fire.', 11),\n (u'fixed', 11),\n (u'silent', 11),\n (u'station', 11),\n (u'start', 11),\n (u'fire,', 11),\n (u'times', 11),\n (u'perfectly', 11),\n (u'piece', 11),\n (u'claim', 11),\n (u'maid', 11),\n (u'broken', 11),\n (u'narrow', 11),\n (u'\"have', 11),\n (u'twenty', 11),\n (u'\"then,', 11),\n (u'often', 11),\n (u'\"now,', 11),\n (u'shining', 11),\n (u'wanted', 11),\n (u'briony', 11),\n (u'presence', 11),\n (u'huge', 11),\n (u'looks', 11),\n (u'\"\\'oh,', 11),\n (u'machine', 11),\n (u'inside', 11),\n (u'walking', 11),\n (u'bright', 11),\n (u'passage,', 11),\n (u'real', 11),\n (u'answered,', 11),\n (u'thrust', 11),\n (u'office', 11),\n (u'raised', 11),\n (u'sheet', 11),\n (u'early', 11),\n (u'died', 11),\n (u'scotland', 11),\n (u'lit', 11),\n (u'pretty', 11),\n (u'draw', 11),\n (u'in.', 11),\n (u'friends', 11),\n (u'still,', 11),\n (u'human', 11),\n (u'therefore,', 11),\n (u'pair', 11),\n (u'different', 11),\n (u'quietly', 11),\n (u'engaged', 11),\n (u'advice', 11),\n (u'exceedingly', 11),\n (u'company', 11),\n (u'charge', 11),\n (u'round,', 11),\n (u'state', 11),\n (u'woman,', 11),\n (u'sum', 11),\n (u'kind', 11),\n (u'first,', 11),\n (u'holmes,\"', 11),\n (u'arthur', 11),\n (u'me,\"', 11),\n (u'promise', 11),\n (u'sinister', 10),\n (u'honour', 10),\n (u'city', 10),\n (u'assistant', 10),\n (u'formed', 10),\n (u'observe', 10),\n (u'mean', 10),\n (u'complete', 10),\n (u'events', 10),\n (u'openshaw', 10),\n (u'forward,', 10),\n (u'swiftly', 10),\n (u'sometimes', 10),\n (u'bird', 10),\n (u'opinion', 10),\n (u'bedroom', 10),\n (u'become', 10),\n (u'mere', 10),\n (u'child', 10),\n (u'yours', 10),\n (u'months', 10),\n (u'watson.', 10),\n (u'throw', 10),\n (u'streets', 10),\n (u'beyond', 10),\n (u'together,', 10),\n (u'immense', 10),\n (u'will,', 10),\n (u'broad', 10),\n (u'stoke', 10),\n (u'boy', 10),\n (u'here.', 10),\n (u'doctor', 10),\n (u'important', 10),\n (u'questioning', 10),\n (u'coat', 10),\n (u'common', 10),\n (u'chamber', 10),\n (u'\"\\'and', 10),\n (u'knowledge', 10),\n (u'henry', 10),\n (u'returning', 10),\n (u'finger', 10),\n (u'passage', 10),\n (u'george', 10),\n (u'armchair', 10),\n (u'difficult', 10),\n (u'edge', 10),\n (u'sir', 10),\n (u'heavily', 10),\n (u\"friend's\", 10),\n (u'so.\"', 10),\n ...]"
                    }, 
                    "execution_count": 40, 
                    "output_type": "execute_result"
                }
            ], 
            "source": "wordCounts.sortBy(lambda x: -1 * x[1]).collect()", 
            "execution_count": 40
        }, 
        {
            "cell_type": "markdown", 
            "metadata": {
                "collapsed": true
            }, 
            "source": "<h1>In class exercise</h1>"
        }, 
        {
            "cell_type": "code", 
            "metadata": {
                "collapsed": true
            }, 
            "outputs": [], 
            "source": "<h2>Joins</h2>", 
            "execution_count": null
        }
    ], 
    "nbformat": 4, 
    "metadata": {
        "kernelspec": {
            "display_name": "Python 2 with Spark 1.6", 
            "name": "python2", 
            "language": "python"
        }, 
        "language_info": {
            "version": "2.7.11", 
            "codemirror_mode": {
                "version": 2, 
                "name": "ipython"
            }, 
            "mimetype": "text/x-python", 
            "nbconvert_exporter": "python", 
            "file_extension": ".py", 
            "name": "python", 
            "pygments_lexer": "ipython2"
        }
    }, 
    "nbformat_minor": 0
}